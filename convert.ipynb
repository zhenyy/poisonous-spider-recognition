{
 "cells": [
  {
   "cell_type": "code",
   "execution_count": 6,
   "metadata": {},
   "outputs": [
    {
     "name": "stderr",
     "output_type": "stream",
     "text": [
      "WARNING:root:TensorFlow version 1.13.1 detected. Last version known to be fully compatible is 1.12.0 .\n"
     ]
    }
   ],
   "source": [
    "from PIL import Image # used for loading images\n",
    "import numpy as np\n",
    "import os # used for navigating to image path\n",
    "import imageio # used for writing images\n",
    "from random import shuffle\n",
    "from matplotlib import pyplot as plt\n",
    "from keras import Sequential\n",
    "from keras.layers import Conv2D, MaxPooling2D, BatchNormalization, Dropout, Dense, Flatten\n",
    "import coremltools"
   ]
  },
  {
   "cell_type": "code",
   "execution_count": 7,
   "metadata": {},
   "outputs": [
    {
     "name": "stdout",
     "output_type": "stream",
     "text": [
      "WARNING:tensorflow:From C:\\Anaconda3\\lib\\site-packages\\tensorflow\\python\\framework\\op_def_library.py:263: colocate_with (from tensorflow.python.framework.ops) is deprecated and will be removed in a future version.\n",
      "Instructions for updating:\n",
      "Colocations handled automatically by placer.\n"
     ]
    },
    {
     "name": "stderr",
     "output_type": "stream",
     "text": [
      "WARNING:tensorflow:From C:\\Anaconda3\\lib\\site-packages\\tensorflow\\python\\framework\\op_def_library.py:263: colocate_with (from tensorflow.python.framework.ops) is deprecated and will be removed in a future version.\n",
      "Instructions for updating:\n",
      "Colocations handled automatically by placer.\n"
     ]
    },
    {
     "name": "stdout",
     "output_type": "stream",
     "text": [
      "WARNING:tensorflow:From C:\\Anaconda3\\lib\\site-packages\\keras\\backend\\tensorflow_backend.py:3445: calling dropout (from tensorflow.python.ops.nn_ops) with keep_prob is deprecated and will be removed in a future version.\n",
      "Instructions for updating:\n",
      "Please use `rate` instead of `keep_prob`. Rate should be set to `rate = 1 - keep_prob`.\n"
     ]
    },
    {
     "name": "stderr",
     "output_type": "stream",
     "text": [
      "WARNING:tensorflow:From C:\\Anaconda3\\lib\\site-packages\\keras\\backend\\tensorflow_backend.py:3445: calling dropout (from tensorflow.python.ops.nn_ops) with keep_prob is deprecated and will be removed in a future version.\n",
      "Instructions for updating:\n",
      "Please use `rate` instead of `keep_prob`. Rate should be set to `rate = 1 - keep_prob`.\n"
     ]
    },
    {
     "name": "stdout",
     "output_type": "stream",
     "text": [
      "WARNING:tensorflow:From C:\\Anaconda3\\lib\\site-packages\\tensorflow\\python\\ops\\math_ops.py:3066: to_int32 (from tensorflow.python.ops.math_ops) is deprecated and will be removed in a future version.\n",
      "Instructions for updating:\n",
      "Use tf.cast instead.\n"
     ]
    },
    {
     "name": "stderr",
     "output_type": "stream",
     "text": [
      "WARNING:tensorflow:From C:\\Anaconda3\\lib\\site-packages\\tensorflow\\python\\ops\\math_ops.py:3066: to_int32 (from tensorflow.python.ops.math_ops) is deprecated and will be removed in a future version.\n",
      "Instructions for updating:\n",
      "Use tf.cast instead.\n"
     ]
    },
    {
     "name": "stdout",
     "output_type": "stream",
     "text": [
      "0 : conv2d_27_input, <keras.engine.input_layer.InputLayer object at 0x000001E333F76C18>\n",
      "1 : conv2d_27, <keras.layers.convolutional.Conv2D object at 0x000001E333F76BE0>\n",
      "2 : conv2d_27__activation__, <keras.layers.core.Activation object at 0x000001E32E66DA90>\n",
      "3 : max_pooling2d_27, <keras.layers.pooling.MaxPooling2D object at 0x000001E333F8B2E8>\n",
      "4 : batch_normalization_26, <keras.layers.normalization.BatchNormalization object at 0x000001E333FB3CF8>\n",
      "5 : conv2d_28, <keras.layers.convolutional.Conv2D object at 0x000001E333FB36A0>\n",
      "6 : conv2d_28__activation__, <keras.layers.core.Activation object at 0x000001E335B91A90>\n",
      "7 : max_pooling2d_28, <keras.layers.pooling.MaxPooling2D object at 0x000001E333F76EB8>\n",
      "8 : batch_normalization_27, <keras.layers.normalization.BatchNormalization object at 0x000001E3340A3E48>\n",
      "9 : conv2d_29, <keras.layers.convolutional.Conv2D object at 0x000001E334035CC0>\n",
      "10 : conv2d_29__activation__, <keras.layers.core.Activation object at 0x000001E335BCDC88>\n",
      "11 : max_pooling2d_29, <keras.layers.pooling.MaxPooling2D object at 0x000001E33413C358>\n",
      "12 : batch_normalization_28, <keras.layers.normalization.BatchNormalization object at 0x000001E334117DD8>\n",
      "13 : conv2d_30, <keras.layers.convolutional.Conv2D object at 0x000001E334209208>\n",
      "14 : conv2d_30__activation__, <keras.layers.core.Activation object at 0x000001E335BCD828>\n",
      "15 : max_pooling2d_30, <keras.layers.pooling.MaxPooling2D object at 0x000001E3342B0D68>\n",
      "16 : batch_normalization_29, <keras.layers.normalization.BatchNormalization object at 0x000001E33425A2B0>\n",
      "17 : conv2d_31, <keras.layers.convolutional.Conv2D object at 0x000001E334342E48>\n",
      "18 : conv2d_31__activation__, <keras.layers.core.Activation object at 0x000001E335BCD2B0>\n",
      "19 : max_pooling2d_31, <keras.layers.pooling.MaxPooling2D object at 0x000001E3343DAF60>\n",
      "20 : batch_normalization_30, <keras.layers.normalization.BatchNormalization object at 0x000001E33435EDA0>\n",
      "21 : flatten_5, <keras.layers.core.Flatten object at 0x000001E33451A048>\n",
      "22 : dense_9, <keras.layers.core.Dense object at 0x000001E33451AB38>\n",
      "23 : dense_9__activation__, <keras.layers.core.Activation object at 0x000001E335BCD6A0>\n",
      "24 : dense_10, <keras.layers.core.Dense object at 0x000001E3346503C8>\n",
      "25 : dense_10__activation__, <keras.layers.core.Activation object at 0x000001E335BCDF60>\n"
     ]
    }
   ],
   "source": [
    "# output_labels = ['0', '1', '2', '3', '4', '5', '6', '7', '8', '9']\n",
    "your_model = coremltools.converters.keras.convert('sample_cnn.h5', input_names=['image'], output_names=['output'])\n",
    "your_model.save('your_model_name.mlmodel')"
   ]
  }
 ],
 "metadata": {
  "kernelspec": {
   "display_name": "Python 3",
   "language": "python",
   "name": "python3"
  },
  "language_info": {
   "codemirror_mode": {
    "name": "ipython",
    "version": 3
   },
   "file_extension": ".py",
   "mimetype": "text/x-python",
   "name": "python",
   "nbconvert_exporter": "python",
   "pygments_lexer": "ipython3",
   "version": "3.6.8"
  }
 },
 "nbformat": 4,
 "nbformat_minor": 2
}
